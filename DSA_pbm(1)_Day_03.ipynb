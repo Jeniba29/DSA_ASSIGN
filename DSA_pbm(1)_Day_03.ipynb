{
  "nbformat": 4,
  "nbformat_minor": 0,
  "metadata": {
    "colab": {
      "provenance": []
    },
    "kernelspec": {
      "name": "python3",
      "display_name": "Python 3"
    },
    "language_info": {
      "name": "python"
    }
  },
  "cells": [
    {
      "cell_type": "code",
      "execution_count": null,
      "metadata": {
        "id": "m_raCZ2eL-Ue",
        "colab": {
          "base_uri": "https://localhost:8080/"
        },
        "outputId": "010cc6af-bfba-408c-f9cd-ad9b5d1a31ec"
      },
      "outputs": [
        {
          "output_type": "stream",
          "name": "stdout",
          "text": [
            "Enter the radius :3\n",
            "Area of circle is: 28.274333882308138\n"
          ]
        }
      ],
      "source": [
        "# Write a Python program which accepts the radius of a circle from the user and compute the area\n",
        "import math\n",
        "radius=float(input(\"Enter the radius :\"))   # Get the input from the user\n",
        "area=math.pi*radius**2                      # calculate area\n",
        "print(\"Area of circle is:\",area)"
      ]
    },
    {
      "cell_type": "markdown",
      "source": [
        "2. Write a Python Program to accept the details of a student like name, roll number and mark and display it.\n"
      ],
      "metadata": {
        "id": "i9MQYrvD6Inx"
      }
    },
    {
      "cell_type": "code",
      "source": [
        "name=input(\"Enter the name:\")\n",
        "roll_no=input(\"Enter the roll_no:\")\n",
        "mark=input(\"Enter the mark:\")\n",
        "print(\"Name:\",name)\n",
        "print(\"Roll No:\",roll_no)\n",
        "print(\"Mark:\",mark)"
      ],
      "metadata": {
        "colab": {
          "base_uri": "https://localhost:8080/"
        },
        "id": "hRqtYHyzNBpR",
        "outputId": "e10d8584-1f75-492a-c846-8da609fd07cb"
      },
      "execution_count": null,
      "outputs": [
        {
          "output_type": "stream",
          "name": "stdout",
          "text": [
            "Enter the name:Jeniba\n",
            "Enter the roll_no:21\n",
            "Enter the mark:90\n",
            "Name: Jeniba\n",
            "Roll No: 21\n",
            "Mark: 90\n"
          ]
        }
      ]
    },
    {
      "cell_type": "markdown",
      "source": [
        "3. Write a Python program to get the largest number from a list\n",
        "\n",
        "\n"
      ],
      "metadata": {
        "id": "KUW-KtrT6GiK"
      }
    },
    {
      "cell_type": "code",
      "source": [
        "list=[]\n",
        "l=int(input(\"Enter the limit:\"))\n",
        "for i in range(l):\n",
        "  num=int(input())\n",
        "  list.append(num)\n",
        "list1=list\n",
        "print(\"The numbers are\",list1)\n",
        "list1.sort()        # sort it in ascending order\n",
        "print(\"The largest number is\",list1[-1])\n"
      ],
      "metadata": {
        "colab": {
          "base_uri": "https://localhost:8080/"
        },
        "id": "eh4CL3BdONNq",
        "outputId": "841d4c8f-b00c-4bcb-8329-cd682a139a9e"
      },
      "execution_count": null,
      "outputs": [
        {
          "output_type": "stream",
          "name": "stdout",
          "text": [
            "Enter the limit:5\n",
            "66\n",
            "99\n",
            "55\n",
            "33\n",
            "11\n",
            "The numbers are [66, 99, 55, 33, 11]\n",
            "The largest number is 99\n"
          ]
        }
      ]
    },
    {
      "cell_type": "markdown",
      "source": [
        "4. Given a range of first 10 numbers,write a Python pgm to iterate from start number to the end number and print the sum of the current number and previous number\n"
      ],
      "metadata": {
        "id": "vTRvwE2yBnO6"
      }
    },
    {
      "cell_type": "code",
      "source": [
        "p=0\n",
        "for i in range(1,11):\n",
        "  sum=p+i                     # Adding current number and previous number\n",
        "  print(\"Current no:\",i,\"Previous no:\",p,\"Sum:\",sum)\n",
        "  p=i\n"
      ],
      "metadata": {
        "colab": {
          "base_uri": "https://localhost:8080/"
        },
        "id": "jf0xf3xCRFDj",
        "outputId": "8371d100-d826-4951-892e-b97580c957a0"
      },
      "execution_count": null,
      "outputs": [
        {
          "output_type": "stream",
          "name": "stdout",
          "text": [
            "Current no: 1 Previous no: 0 Sum: 1\n",
            "Current no: 2 Previous no: 1 Sum: 3\n",
            "Current no: 3 Previous no: 2 Sum: 5\n",
            "Current no: 4 Previous no: 3 Sum: 7\n",
            "Current no: 5 Previous no: 4 Sum: 9\n",
            "Current no: 6 Previous no: 5 Sum: 11\n",
            "Current no: 7 Previous no: 6 Sum: 13\n",
            "Current no: 8 Previous no: 7 Sum: 15\n",
            "Current no: 9 Previous no: 8 Sum: 17\n",
            "Current no: 10 Previous no: 9 Sum: 19\n"
          ]
        }
      ]
    },
    {
      "cell_type": "markdown",
      "source": [
        "5. Write a Python program to print only those numbers which are divisible of 5.\n"
      ],
      "metadata": {
        "id": "2IZSR6ORCipT"
      }
    },
    {
      "cell_type": "code",
      "source": [
        "list=[]\n",
        "l=int(input(\"Enter the limit:\"))\n",
        "for i in range(l):\n",
        "  num=int(input())\n",
        "  list.append(num)\n",
        "data=list\n",
        "print(\"The numbers are\",data)\n",
        "div=[]\n",
        "for i in data:\n",
        "  if(i % 5==0):\n",
        "    div.append(i)   # adding the element into the div\n",
        "print(\"The numbers which are divisible by 5 is\",div)\n"
      ],
      "metadata": {
        "colab": {
          "base_uri": "https://localhost:8080/"
        },
        "id": "fWrwkTybTAtu",
        "outputId": "24a31dc3-cb9a-478f-f0fe-58c60568359f"
      },
      "execution_count": null,
      "outputs": [
        {
          "output_type": "stream",
          "name": "stdout",
          "text": [
            "Enter the limit:5\n",
            "88\n",
            "90\n",
            "5\n",
            "11\n",
            "55\n",
            "The numbers are [88, 90, 5, 11, 55]\n",
            "The numbers which are divisible by 5 is [90, 5, 55]\n"
          ]
        }
      ]
    },
    {
      "cell_type": "markdown",
      "source": [
        "6. Write a Python program to check whether a number is prime or not."
      ],
      "metadata": {
        "id": "TRUHZuhUEDDi"
      }
    },
    {
      "cell_type": "code",
      "source": [
        "number=int(input(\"Enter the number:\"))\n",
        "for i in range(2,number//2+1):\n",
        "  if(number % i == 0):\n",
        "    print(number, \"is not a prime number\")\n",
        "    break\n",
        "else:\n",
        "  print(number,\"is a prime number\")"
      ],
      "metadata": {
        "colab": {
          "base_uri": "https://localhost:8080/"
        },
        "id": "UeOwflfJVyj1",
        "outputId": "83176bcf-5c1f-41d7-e994-c2b947e52643"
      },
      "execution_count": null,
      "outputs": [
        {
          "output_type": "stream",
          "name": "stdout",
          "text": [
            "Enter the number:12\n",
            "12 is not a prime number\n"
          ]
        }
      ]
    },
    {
      "cell_type": "markdown",
      "source": [
        "7. Write a Python program to reverse a list using for loop.\n"
      ],
      "metadata": {
        "id": "Mn1Od2PmEgjC"
      }
    },
    {
      "cell_type": "code",
      "source": [
        "list=[]\n",
        "l=int(input(\"Enter the limit:\"))\n",
        "for i in range(l):\n",
        "  num=int(input())\n",
        "  list.append(num)\n",
        "print(\"The list are\",list)\n",
        "\n",
        "rev_list=list[::-1]\n",
        "print(\"The Reverse list are\", rev_list)"
      ],
      "metadata": {
        "colab": {
          "base_uri": "https://localhost:8080/"
        },
        "id": "lg_cfgsGVV5C",
        "outputId": "f7364a2c-ce69-4807-a1c8-0ae2baf7c30d"
      },
      "execution_count": null,
      "outputs": [
        {
          "output_type": "stream",
          "name": "stdout",
          "text": [
            "Enter the limit:5\n",
            "88\n",
            "79\n",
            "90\n",
            "33\n",
            "22\n",
            "The list are [88, 79, 90, 33, 22]\n",
            "The Reverse list are [22, 33, 90, 79, 88]\n"
          ]
        }
      ]
    },
    {
      "cell_type": "markdown",
      "source": [
        "8. Write a Python program to print the following pattern."
      ],
      "metadata": {
        "id": "13SpH_g0Gwgq"
      }
    },
    {
      "cell_type": "code",
      "source": [
        "for i in range(1,5):\n",
        "  for j in range(1,i+1):\n",
        "    print(\"*\",end='')\n",
        "  print(\"\\n\")\n"
      ],
      "metadata": {
        "colab": {
          "base_uri": "https://localhost:8080/"
        },
        "id": "myeCa4LYYbC1",
        "outputId": "4419a8e5-4418-41ac-e372-dcad63d79f33"
      },
      "execution_count": null,
      "outputs": [
        {
          "output_type": "stream",
          "name": "stdout",
          "text": [
            "*\n",
            "\n",
            "**\n",
            "\n",
            "***\n",
            "\n",
            "****\n",
            "\n"
          ]
        }
      ]
    },
    {
      "cell_type": "markdown",
      "source": [
        "9. Write a Python program to find the maximum of three numbers\n",
        "\n",
        "\n",
        "\n",
        "\n"
      ],
      "metadata": {
        "id": "FPMAWUXvG4EK"
      }
    },
    {
      "cell_type": "code",
      "source": [
        "x,y,z=map(int,input('Enter the number:').split(' '))\n",
        "if(x>y and x>z):\n",
        "  print(x,\"is maximum\")\n",
        "elif(y>x and y>z):\n",
        "  print(y,\"is maximum\")\n",
        "else:\n",
        "  print(z,\"is maximum\")\n"
      ],
      "metadata": {
        "colab": {
          "base_uri": "https://localhost:8080/"
        },
        "id": "fQLXU4Q2a0B3",
        "outputId": "3ec978e0-62eb-4594-a272-898b0eff795d"
      },
      "execution_count": null,
      "outputs": [
        {
          "output_type": "stream",
          "name": "stdout",
          "text": [
            "Enter the number:34 12 7\n",
            "34 is maximum\n"
          ]
        }
      ]
    },
    {
      "cell_type": "markdown",
      "source": [
        "10. Write a Python program to construct the following pattern, using a\n",
        "nested for loop."
      ],
      "metadata": {
        "id": "h1Qv1d3tHQ2Y"
      }
    },
    {
      "cell_type": "code",
      "source": [
        "for i in range(1,6):\n",
        "  for j in range(1,i+1):\n",
        "    print(\"*\",end='')\n",
        "  print(\"\\n\")\n",
        "for i in range(0,4):\n",
        "  for j in range(5-i-1):\n",
        "    print(\"*\",end='')\n",
        "  print(\"\\n\")\n",
        "\n"
      ],
      "metadata": {
        "id": "9G9ndV0qbKFB",
        "colab": {
          "base_uri": "https://localhost:8080/"
        },
        "outputId": "4b76e552-6e6a-400e-dfc5-0fd4c0cd7535"
      },
      "execution_count": null,
      "outputs": [
        {
          "output_type": "stream",
          "name": "stdout",
          "text": [
            "*\n",
            "\n",
            "**\n",
            "\n",
            "***\n",
            "\n",
            "****\n",
            "\n",
            "*****\n",
            "\n",
            "****\n",
            "\n",
            "***\n",
            "\n",
            "**\n",
            "\n",
            "*\n",
            "\n"
          ]
        }
      ]
    }
  ]
}
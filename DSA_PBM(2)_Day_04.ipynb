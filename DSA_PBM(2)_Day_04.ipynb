{
  "nbformat": 4,
  "nbformat_minor": 0,
  "metadata": {
    "colab": {
      "provenance": []
    },
    "kernelspec": {
      "name": "python3",
      "display_name": "Python 3"
    },
    "language_info": {
      "name": "python"
    }
  },
  "cells": [
    {
      "cell_type": "code",
      "execution_count": null,
      "metadata": {
        "colab": {
          "base_uri": "https://localhost:8080/"
        },
        "id": "O4xRCZY08hsu",
        "outputId": "8e044967-b8a1-4bf2-e38a-9713705bc5e9"
      },
      "outputs": [
        {
          "output_type": "stream",
          "name": "stdout",
          "text": [
            "Enter a string:assembly\n",
            "char count {'a': 1, 's': 2, 'e': 1, 'm': 1, 'b': 1, 'l': 1, 'y': 1}\n"
          ]
        }
      ],
      "source": [
        "#write a Python program to accept a string value from the user and display the count of each character in that string.\n",
        "value=input(\"Enter a string:\")\n",
        "char_count={ }\n",
        "for i in value:\n",
        "  if i in char_count:\n",
        "    char_count[i]+=1\n",
        "  else:\n",
        "    char_count[i]=1\n",
        "print(\"char count\",char_count)\n"
      ]
    },
    {
      "cell_type": "markdown",
      "source": [
        "2. Write a Python function to find the maximum of three numbers"
      ],
      "metadata": {
        "id": "cK3oS0LhKcCI"
      }
    },
    {
      "cell_type": "code",
      "source": [
        "def max(a,b,c):\n",
        "  if(a>b and a>c):\n",
        "    print(a,\"is maximum\")\n",
        "  elif( b>c and b>a):\n",
        "    print(b,\"is maximum\")\n",
        "  else:\n",
        "    print(c,\"is maximum\")\n",
        "\n",
        "max(34,12,7)"
      ],
      "metadata": {
        "colab": {
          "base_uri": "https://localhost:8080/"
        },
        "id": "inas7A1tEtaY",
        "outputId": "6aa1ff22-92f4-459c-e884-b317d4631880"
      },
      "execution_count": null,
      "outputs": [
        {
          "output_type": "stream",
          "name": "stdout",
          "text": [
            "34 is maximum\n"
          ]
        }
      ]
    },
    {
      "cell_type": "markdown",
      "source": [
        "3. Write a Python function called exponent(base,exp) that returns an\n",
        "integer value of base raises to the power of exp."
      ],
      "metadata": {
        "id": "PgfNL1MoLSy4"
      }
    },
    {
      "cell_type": "code",
      "source": [
        "def exponent():\n",
        "  base=int(input(\"Enter the base:\"))\n",
        "  exp=int(input(\"Enter the exp:\"))\n",
        "  expon=base**exp\n",
        "  return expon\n",
        "\n",
        "exponent()"
      ],
      "metadata": {
        "colab": {
          "base_uri": "https://localhost:8080/"
        },
        "id": "fZZIlCeM9YWF",
        "outputId": "02764373-fdad-47af-d412-baffe9e1da21"
      },
      "execution_count": null,
      "outputs": [
        {
          "name": "stdout",
          "output_type": "stream",
          "text": [
            "Enter the base:2\n",
            "Enter the exp:3\n"
          ]
        },
        {
          "output_type": "execute_result",
          "data": {
            "text/plain": [
              "8"
            ]
          },
          "metadata": {},
          "execution_count": 9
        }
      ]
    },
    {
      "cell_type": "markdown",
      "source": [
        "4. Write a Python function that takes a positive integer and returns the sum\n",
        "of the cube of all the positive integers smaller than the specified number."
      ],
      "metadata": {
        "id": "sB76TK3JNSzT"
      }
    },
    {
      "cell_type": "code",
      "source": [
        "def sum_n(num):\n",
        "  sum=0\n",
        "  for i in range(1,num):\n",
        "    cube=i**3\n",
        "    sum=sum+cube\n",
        "  return sum\n",
        "\n",
        "sum_n(num=int(input(\"Enter a positive integer:\")))\n"
      ],
      "metadata": {
        "colab": {
          "base_uri": "https://localhost:8080/"
        },
        "id": "rvFj9Joyz2aO",
        "outputId": "3fad3d53-1325-404e-d4ec-174f3e5a03ea"
      },
      "execution_count": null,
      "outputs": [
        {
          "name": "stdout",
          "output_type": "stream",
          "text": [
            "Enter a positive integer:4\n"
          ]
        },
        {
          "output_type": "execute_result",
          "data": {
            "text/plain": [
              "36"
            ]
          },
          "metadata": {},
          "execution_count": 12
        }
      ]
    },
    {
      "cell_type": "markdown",
      "source": [
        "5. Write a Python program which iterates from 1 to 10. For multiples of 2,\n",
        "print “Fizz” instead of the number and for the multiples of 5, print “Buzz”.\n",
        "For numbers which are multiples of both 2 and 5, print “FizzBuzz”.\n"
      ],
      "metadata": {
        "id": "iHOp4reXN4gX"
      }
    },
    {
      "cell_type": "code",
      "source": [
        "for i in range(1,11):\n",
        "  if ( i % 2==0) and (i % 5==0):\n",
        "    print(\"FizzBuzz\",end=' ')\n",
        "  elif i % 2==0:\n",
        "    print(\"Fizz\",end=' ')\n",
        "  elif i % 5==0:\n",
        "    print(\"Buzz\",end=' ')\n",
        "  else:\n",
        "    print(i,end=' ')"
      ],
      "metadata": {
        "colab": {
          "base_uri": "https://localhost:8080/"
        },
        "id": "eHFNmzipxXur",
        "outputId": "f6389bb6-83f8-45b3-ff91-076f0fba32de"
      },
      "execution_count": null,
      "outputs": [
        {
          "output_type": "stream",
          "name": "stdout",
          "text": [
            "1 Fizz 3 Fizz Buzz Fizz 7 Fizz 9 FizzBuzz "
          ]
        }
      ]
    },
    {
      "cell_type": "markdown",
      "source": [
        "6. Write a Python program to find the most frequent item in a list of\n",
        "numbers."
      ],
      "metadata": {
        "id": "b4PsajNuOTpN"
      }
    },
    {
      "cell_type": "code",
      "source": [
        "def most_frequent(List):\n",
        "    counter = 0\n",
        "    num = List[0]\n",
        "\n",
        "    for i in List:\n",
        "        curr_frequency = List.count(i)\n",
        "        if(curr_frequency> counter):\n",
        "            counter = curr_frequency\n",
        "            num = i\n",
        "\n",
        "    return num\n",
        "\n",
        "List = [2,3,4,2,5,2]\n",
        "\n",
        "print(most_frequent(List))\n",
        "\n"
      ],
      "metadata": {
        "id": "2LFS7DJx6HC1",
        "colab": {
          "base_uri": "https://localhost:8080/"
        },
        "outputId": "902f9d56-fa15-451c-c23c-ad8293a64568"
      },
      "execution_count": null,
      "outputs": [
        {
          "output_type": "stream",
          "name": "stdout",
          "text": [
            "2\n"
          ]
        }
      ]
    },
    {
      "cell_type": "markdown",
      "source": [
        "7. Write a Python program to find the sum of squares of the numbers in a\n",
        "list."
      ],
      "metadata": {
        "id": "fxMqwkhHOq-l"
      }
    },
    {
      "cell_type": "code",
      "source": [
        "list=[]\n",
        "l=int(input(\"Enter the limit:\"))\n",
        "for i in range(l):\n",
        "  num=int(input())\n",
        "  list.append(num)\n",
        "data=list\n",
        "print(\"The numbers are\",data)\n",
        "\n",
        "sum=0\n",
        "for i in data:\n",
        "  square=i**2\n",
        "  sum=sum+square\n",
        "print(sum)"
      ],
      "metadata": {
        "colab": {
          "base_uri": "https://localhost:8080/"
        },
        "id": "ff4nUYUX7zw_",
        "outputId": "9128bea2-eff7-406e-d7ab-e0d1456068c8"
      },
      "execution_count": null,
      "outputs": [
        {
          "output_type": "stream",
          "name": "stdout",
          "text": [
            "Enter the limit:4\n",
            "2\n",
            "1\n",
            "3\n",
            "1\n",
            "The numbers are [2, 1, 3, 1]\n",
            "15\n"
          ]
        }
      ]
    },
    {
      "cell_type": "markdown",
      "source": [
        "8. Write a Python program using for loop that will iterate from 1 to 15. For\n",
        "each iteration, check if the current number is odd or even, and display the\n",
        "message to the screen as odd or even."
      ],
      "metadata": {
        "id": "ACIxee0YO7xA"
      }
    },
    {
      "cell_type": "code",
      "source": [
        "for i in range (1,16):\n",
        "  if i % 2==0:\n",
        "    print(i,\"-even\",end=' ')\n",
        "  else:\n",
        "    print(i,\"-odd\",end=' ')"
      ],
      "metadata": {
        "colab": {
          "base_uri": "https://localhost:8080/"
        },
        "id": "4hKRL8Lr-tXo",
        "outputId": "6905e091-4352-46ce-a751-66f009161fea"
      },
      "execution_count": null,
      "outputs": [
        {
          "output_type": "stream",
          "name": "stdout",
          "text": [
            "1 -odd 2 -even 3 -odd 4 -even 5 -odd 6 -even 7 -odd 8 -even 9 -odd 10 -even 11 -odd 12 -even 13 -odd 14 -even 15 -odd "
          ]
        }
      ]
    },
    {
      "cell_type": "markdown",
      "source": [
        "9. Write a Python program to convert temperatures to and from Celsius\n",
        "Fahrenheit."
      ],
      "metadata": {
        "id": "P7c3fp3uPJDm"
      }
    },
    {
      "cell_type": "code",
      "source": [
        "f=int(input(\"Enter the temperature in Fahrenheit:\"))\n",
        "c=(f-32)*5/9\n",
        "print(\"Temperature in celsius is:\",c)"
      ],
      "metadata": {
        "colab": {
          "base_uri": "https://localhost:8080/"
        },
        "id": "Lt7Dxzp8AiuH",
        "outputId": "cff277c7-e162-4bc5-a29c-6127af9277df"
      },
      "execution_count": null,
      "outputs": [
        {
          "output_type": "stream",
          "name": "stdout",
          "text": [
            "Enter the temperature in Fahrenheit:41\n",
            "Temperature in celsius is: 5.0\n"
          ]
        }
      ]
    },
    {
      "cell_type": "markdown",
      "source": [
        "10. Write a Python function to calculate the factorial of a number"
      ],
      "metadata": {
        "id": "yp47SX0UPTg4"
      }
    },
    {
      "cell_type": "code",
      "source": [
        "def fact(n):\n",
        "  if n==1:\n",
        "    return 1\n",
        "  else:\n",
        "    return n* fact(n-1)\n",
        "fact(n=int(input(\"Enter a number\")))"
      ],
      "metadata": {
        "colab": {
          "base_uri": "https://localhost:8080/"
        },
        "id": "wXFEUzz9COID",
        "outputId": "d643bdd4-f843-426e-c070-594b69d1aeb7"
      },
      "execution_count": null,
      "outputs": [
        {
          "name": "stdout",
          "output_type": "stream",
          "text": [
            "Enter a number5\n"
          ]
        },
        {
          "output_type": "execute_result",
          "data": {
            "text/plain": [
              "120"
            ]
          },
          "metadata": {},
          "execution_count": 18
        }
      ]
    }
  ]
}